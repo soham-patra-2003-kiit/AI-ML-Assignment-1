{
 "cells": [
  {
   "cell_type": "markdown",
   "id": "4bb8d634",
   "metadata": {},
   "source": [
    "#### 1> a)Write a Python Code to count the Number of Each Vowel in a given string \n"
   ]
  },
  {
   "cell_type": "code",
   "execution_count": 3,
   "id": "34d98e92",
   "metadata": {},
   "outputs": [
    {
     "name": "stdout",
     "output_type": "stream",
     "text": [
      "enteraaaaiiouue\n",
      "{'a': 4, 'e': 1, 'i': 2, 'o': 1, 'u': 2}\n"
     ]
    }
   ],
   "source": [
    "vowels = 'aeiou'\n",
    "\n",
    "ip_str = str(input(\"enter\"))\n",
    "\n",
    "# make it suitable for caseless comparisions\n",
    "ip_str = ip_str.casefold()\n",
    "\n",
    "# make a dictionary with each vowel a key and value 0\n",
    "count = {}.fromkeys(vowels,0)\n",
    "\n",
    "\n",
    "for char in ip_str:\n",
    "    if char in count:\n",
    "        count[char] += 1\n",
    "\n",
    "print(count)"
   ]
  },
  {
   "cell_type": "markdown",
   "id": "d619dec3",
   "metadata": {},
   "source": [
    "##### 2> Write a Python Code to count number of words, characters and number of spaces in a given stirng "
   ]
  },
  {
   "cell_type": "code",
   "execution_count": 6,
   "id": "f1774370",
   "metadata": {},
   "outputs": [
    {
     "name": "stdout",
     "output_type": "stream",
     "text": [
      "Enter the string\n",
      "i am very moody\n",
      "Total words in the given string  4\n",
      "Total characters in the given string  12\n",
      "Number of space in the given string  3\n"
     ]
    }
   ],
   "source": [
    "wordCount=0\n",
    "charCount=0\n",
    "\n",
    "str=input(\"Enter the string\\n\")\n",
    "split_str=str.split()\n",
    "\n",
    "wordCount=len(split_str)\n",
    "\n",
    "for word in split_str:\n",
    "\n",
    "    charCount+=len(word)\n",
    "print(\"Total words \",wordCount)\n",
    "print(\"Total characters \",charCount)\n",
    "print(\"Number of space \",(wordCount-1))"
   ]
  },
  {
   "cell_type": "markdown",
   "id": "99acfee3",
   "metadata": {},
   "source": [
    "#### 3> Write a Python Program to remove punctuation from a given string (using loop) "
   ]
  },
  {
   "cell_type": "code",
   "execution_count": 8,
   "id": "8b6e5d52",
   "metadata": {},
   "outputs": [
    {
     "name": "stdout",
     "output_type": "stream",
     "text": [
      "Enter a string: cwej,,./df\n",
      "cwejdf\n"
     ]
    }
   ],
   "source": [
    " \n",
    "punctuation = '''''!()-[]{};:'\"\\,<>./?@#$%^&*_~'''  \n",
    "my_str = input(\"Enter a string: \")  \n",
    "no_punct = \"\"  \n",
    "for char in my_str:  \n",
    "    if char not in punctuation:  \n",
    "        no_punct = no_punct + char    \n",
    "print(no_punct)  "
   ]
  },
  {
   "cell_type": "markdown",
   "id": "cd85dc0e",
   "metadata": {},
   "source": [
    "##### 4>Write a Python Program to take a mxn matrix input from user and stored in nested list "
   ]
  },
  {
   "cell_type": "code",
   "execution_count": 2,
   "id": "c9f79bd2",
   "metadata": {},
   "outputs": [
    {
     "name": "stdout",
     "output_type": "stream",
     "text": [
      "Enter the number of rows (m): 2\n",
      "Enter the number of columns (n): 2\n",
      "Enter element at position (1, 1): 1\n",
      "Enter element at position (1, 2): 2\n",
      "Enter element at position (2, 1): 3\n",
      "Enter element at position (2, 2): 4\n",
      "Matrix:\n",
      "[1, 2]\n",
      "[3, 4]\n"
     ]
    }
   ],
   "source": [
    "def create_matrix(m, n):\n",
    "    matrix = []\n",
    "\n",
    "    for i in range(m):\n",
    "        row = []\n",
    "        for j in range(n):\n",
    "            element = int(input(f\"Enter element at position ({i+1}, {j+1}): \"))\n",
    "            row.append(element)\n",
    "        matrix.append(row)\n",
    "\n",
    "    return matrix\n",
    "\n",
    "\n",
    "\n",
    "rows = int(input(\"Enter the number of rows (m): \"))\n",
    "columns = int(input(\"Enter the number of columns (n): \"))\n",
    "\n",
    "matrix = create_matrix(rows, columns)\n",
    "\n",
    "print(\"Matrix:\")\n",
    "for row in matrix:\n",
    "    print(row)\n"
   ]
  },
  {
   "cell_type": "markdown",
   "id": "a95eb401",
   "metadata": {},
   "source": [
    "#### 5>Write a Python Program to add, multiply and transpose two matrices given by user"
   ]
  },
  {
   "cell_type": "code",
   "execution_count": 3,
   "id": "e22e97c1",
   "metadata": {},
   "outputs": [
    {
     "name": "stdout",
     "output_type": "stream",
     "text": [
      "Enter the number of rows for the matrices: 3\n",
      "Enter the number of columns for the matrices: 3\n",
      "Enter elements for Matrix 1:\n",
      "Enter element at position (1, 1): 1\n",
      "Enter element at position (1, 2): 2\n",
      "Enter element at position (1, 3): 3\n",
      "Enter element at position (2, 1): 4\n",
      "Enter element at position (2, 2): 5\n",
      "Enter element at position (2, 3): 6\n",
      "Enter element at position (3, 1): 7\n",
      "Enter element at position (3, 2): 8\n",
      "Enter element at position (3, 3): 9\n",
      "Enter elements for Matrix 2:\n",
      "Enter element at position (1, 1): 1\n",
      "Enter element at position (1, 2): 2\n",
      "Enter element at position (1, 3): 3\n",
      "Enter element at position (2, 1): 4\n",
      "Enter element at position (2, 2): 5\n",
      "Enter element at position (2, 3): 6\n",
      "Enter element at position (3, 1): 7\n",
      "Enter element at position (3, 2): 8\n",
      "Enter element at position (3, 3): 9\n",
      "Matrix 1:\n",
      "[1, 2, 3]\n",
      "[4, 5, 6]\n",
      "[7, 8, 9]\n",
      "Matrix 2:\n",
      "[1, 2, 3]\n",
      "[4, 5, 6]\n",
      "[7, 8, 9]\n",
      "Addition Result:\n",
      "[2, 4, 6]\n",
      "[8, 10, 12]\n",
      "[14, 16, 18]\n",
      "Multiplication Result:\n",
      "[30, 36, 42]\n",
      "[66, 81, 96]\n",
      "[102, 126, 150]\n",
      "Transpose Result:\n",
      "[1, 4, 7]\n",
      "[2, 5, 8]\n",
      "[3, 6, 9]\n"
     ]
    }
   ],
   "source": [
    "def create_matrix(rows, columns):\n",
    "    matrix = []\n",
    "\n",
    "    for i in range(rows):\n",
    "        row = []\n",
    "        for j in range(columns):\n",
    "            element = int(input(f\"Enter element at position ({i+1}, {j+1}): \"))\n",
    "            row.append(element)\n",
    "        matrix.append(row)\n",
    "\n",
    "    return matrix\n",
    "\n",
    "\n",
    "def add_matrices(matrix1, matrix2):\n",
    "    result = []\n",
    "\n",
    "    for i in range(len(matrix1)):\n",
    "        row = []\n",
    "        for j in range(len(matrix1[0])):\n",
    "            sum_element = matrix1[i][j] + matrix2[i][j]\n",
    "            row.append(sum_element)\n",
    "        result.append(row)\n",
    "\n",
    "    return result\n",
    "\n",
    "\n",
    "def multiply_matrices(matrix1, matrix2):\n",
    "    result = []\n",
    "\n",
    "    for i in range(len(matrix1)):\n",
    "        row = []\n",
    "        for j in range(len(matrix2[0])):\n",
    "            product = 0\n",
    "            for k in range(len(matrix2)):\n",
    "                product += matrix1[i][k] * matrix2[k][j]\n",
    "            row.append(product)\n",
    "        result.append(row)\n",
    "\n",
    "    return result\n",
    "\n",
    "\n",
    "def transpose_matrix(matrix):\n",
    "    transposed = [[matrix[j][i] for j in range(len(matrix))] for i in range(len(matrix[0]))]\n",
    "    return transposed\n",
    "\n",
    "\n",
    "\n",
    "rows = int(input(\"Enter the number of rows for the matrices: \"))\n",
    "columns = int(input(\"Enter the number of columns for the matrices: \"))\n",
    "\n",
    "print(\"Enter elements for Matrix 1:\")\n",
    "matrix1 = create_matrix(rows, columns)\n",
    "\n",
    "print(\"Enter elements for Matrix 2:\")\n",
    "matrix2 = create_matrix(rows, columns)\n",
    "\n",
    "print(\"Matrix 1:\")\n",
    "for row in matrix1:\n",
    "    print(row)\n",
    "\n",
    "print(\"Matrix 2:\")\n",
    "for row in matrix2:\n",
    "    print(row)\n",
    "\n",
    "\n",
    "addition_result = add_matrices(matrix1, matrix2)\n",
    "print(\"Addition Result:\")\n",
    "for row in addition_result:\n",
    "    print(row)\n",
    "\n",
    "\n",
    "multiplication_result = multiply_matrices(matrix1, matrix2)\n",
    "print(\"Multiplication Result:\")\n",
    "for row in multiplication_result:\n",
    "    print(row)\n",
    "transpose_result = transpose_matrix(matrix1)\n",
    "print(\"Transpose Result:\")\n",
    "for row in transpose_result:\n",
    "    print(row)\n"
   ]
  },
  {
   "cell_type": "code",
   "execution_count": null,
   "id": "7a79d60e",
   "metadata": {},
   "outputs": [],
   "source": []
  }
 ],
 "metadata": {
  "kernelspec": {
   "display_name": "Python 3 (ipykernel)",
   "language": "python",
   "name": "python3"
  },
  "language_info": {
   "codemirror_mode": {
    "name": "ipython",
    "version": 3
   },
   "file_extension": ".py",
   "mimetype": "text/x-python",
   "name": "python",
   "nbconvert_exporter": "python",
   "pygments_lexer": "ipython3",
   "version": "3.10.9"
  }
 },
 "nbformat": 4,
 "nbformat_minor": 5
}
