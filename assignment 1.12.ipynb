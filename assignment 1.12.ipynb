{
 "cells": [
  {
   "cell_type": "markdown",
   "id": "80052f5c",
   "metadata": {},
   "source": [
    "##### 1> Write a code to implement Guess Game Guess Game \n",
    "\n",
    "    constraints / Rules \n",
    "\n",
    "    you have 5 chance to guess correct number which is choosen by computer / friend \n",
    "\n",
    "    Range which is allowed to select a number 1-50 \n",
    "\n",
    "    After each guess you should give some tips / hints to user to improve their chance of winning \n",
    "\n",
    "    for example if user guess a number which is higher than actual number you should say `hint: think a low number! \n",
    "\n",
    "    if user guess a number which is lower than actual number you should say `hint: think a big number!` \n",
    "\n",
    "      if user wins we will show a congrats messege and stop our game \n",
    "\n",
    "      if any time user guess is out of limit than print a warning message saying Think in Limits 1-50 only! "
   ]
  },
  {
   "cell_type": "code",
   "execution_count": 1,
   "id": "0966a329",
   "metadata": {},
   "outputs": [
    {
     "name": "stdout",
     "output_type": "stream",
     "text": [
      "Welcome to the Guess Game!\n",
      "Guess a number between 1 and 50.\n",
      "Enter your guess: 12\n",
      "Hint: Think of a bigger number!\n",
      "Chances left: 4\n",
      "Enter your guess: 34\n",
      "Hint: Think of a smaller number!\n",
      "Chances left: 3\n",
      "Enter your guess: 30\n",
      "Hint: Think of a smaller number!\n",
      "Chances left: 2\n",
      "Enter your guess: 25\n",
      "Hint: Think of a bigger number!\n",
      "Chances left: 1\n",
      "Enter your guess: 26\n",
      "Hint: Think of a bigger number!\n",
      "Game over! The secret number was: 28\n"
     ]
    }
   ],
   "source": [
    "import random\n",
    "\n",
    "def guess_game():\n",
    "    secret_number = random.randint(1, 50)\n",
    "    chances = 5\n",
    "    \n",
    "    print(\"Welcome to the Guess Game!\")\n",
    "    print(\"Guess a number between 1 and 50.\")\n",
    "\n",
    "    while chances > 0:\n",
    "        try:\n",
    "            guess = int(input(\"Enter your guess: \"))\n",
    "        except ValueError:\n",
    "            print(\"Invalid input! Please enter a valid number.\")\n",
    "            continue\n",
    "\n",
    "        if guess < 1 or guess > 50:\n",
    "            print(\"Think within the limits 1-50 only!\")\n",
    "            continue\n",
    "\n",
    "        if guess == secret_number:\n",
    "            print(\"Congratulations! You guessed the correct number:\", secret_number)\n",
    "            break\n",
    "        elif guess < secret_number:\n",
    "            print(\"Hint: Think of a bigger number!\")\n",
    "        else:\n",
    "            print(\"Hint: Think of a smaller number!\")\n",
    "\n",
    "        chances -= 1\n",
    "        if chances > 0:\n",
    "            print(\"Chances left:\", chances)\n",
    "        else:\n",
    "            print(\"Game over! The secret number was:\", secret_number)\n",
    "\n",
    "\n",
    "guess_game()\n"
   ]
  },
  {
   "cell_type": "markdown",
   "id": "b08e166f",
   "metadata": {},
   "source": [
    "Bubble sort"
   ]
  },
  {
   "cell_type": "markdown",
   "id": "6a4c40fb",
   "metadata": {},
   "source": [
    "###### 5>a) bubble sort"
   ]
  },
  {
   "cell_type": "code",
   "execution_count": 2,
   "id": "234ff260",
   "metadata": {},
   "outputs": [
    {
     "name": "stdout",
     "output_type": "stream",
     "text": [
      "[2, 3, 4, 5, 8]\n"
     ]
    }
   ],
   "source": [
    "def bubble_sort(arr):\n",
    "    n = len(arr)\n",
    "    \n",
    "    for i in range(n - 1):\n",
    "      \n",
    "        for j in range(n - i - 1):\n",
    "            \n",
    "            if arr[j] > arr[j + 1]:\n",
    "                arr[j], arr[j + 1] = arr[j + 1], arr[j]\n",
    "\n",
    "\n",
    "numbers = [5, 3, 8, 4, 2]\n",
    "bubble_sort(numbers)\n",
    "print(numbers)\n"
   ]
  },
  {
   "cell_type": "markdown",
   "id": "5ea1d226",
   "metadata": {},
   "source": [
    "##### 5>b)inserion sort"
   ]
  },
  {
   "cell_type": "code",
   "execution_count": 3,
   "id": "5eb00667",
   "metadata": {},
   "outputs": [
    {
     "name": "stdout",
     "output_type": "stream",
     "text": [
      "[2, 3, 4, 5, 8]\n"
     ]
    }
   ],
   "source": [
    "def insertion_sort(arr):\n",
    "    n = len(arr)\n",
    "    \n",
    "    for i in range(1, n):\n",
    "        key = arr[i]   \n",
    "        j = i - 1      \n",
    "        \n",
    "        \n",
    "        while j >= 0 and arr[j] > key:\n",
    "            arr[j + 1] = arr[j]\n",
    "            j -= 1\n",
    "        \n",
    "        arr[j + 1] = key  \n",
    "\n",
    "\n",
    "numbers = [5, 3, 8, 4, 2]\n",
    "insertion_sort(numbers)\n",
    "print(numbers)\n"
   ]
  },
  {
   "cell_type": "markdown",
   "id": "fa9e06a4",
   "metadata": {},
   "source": [
    "##### 5>c) selection sort"
   ]
  },
  {
   "cell_type": "code",
   "execution_count": 4,
   "id": "ea3f5140",
   "metadata": {},
   "outputs": [
    {
     "name": "stdout",
     "output_type": "stream",
     "text": [
      "[2, 3, 4, 5, 8]\n"
     ]
    }
   ],
   "source": [
    "def selection_sort(arr):\n",
    "    n = len(arr)\n",
    "    \n",
    "    for i in range(n - 1):\n",
    "        min_index = i\n",
    "        \n",
    "       \n",
    "        for j in range(i + 1, n):\n",
    "            if arr[j] < arr[min_index]:\n",
    "                min_index = j\n",
    "        \n",
    "        \n",
    "        arr[i], arr[min_index] = arr[min_index], arr[i]\n",
    "\n",
    "\n",
    "numbers = [5, 3, 8, 4, 2]\n",
    "selection_sort(numbers)\n",
    "print(numbers)\n"
   ]
  },
  {
   "cell_type": "code",
   "execution_count": 1,
   "id": "bc7a2376",
   "metadata": {},
   "outputs": [
    {
     "name": "stdout",
     "output_type": "stream",
     "text": [
      "2\n",
      "2\n",
      "2\n",
      "2\n",
      "[[0, 0, 0], [0, 0, 1], [0, 1, 0], [0, 1, 2], [0, 2, 1], [0, 2, 2], [1, 0, 0], [1, 0, 2], [1, 1, 1], [1, 1, 2], [1, 2, 0], [1, 2, 1], [1, 2, 2], [2, 0, 1], [2, 0, 2], [2, 1, 0], [2, 1, 1], [2, 1, 2], [2, 2, 0], [2, 2, 1], [2, 2, 2]]\n"
     ]
    }
   ],
   "source": [
    "# 2>\n",
    "if __name__ == '__main__':\n",
    "    x = int(input())\n",
    "    y = int(input())\n",
    "    z = int(input())\n",
    "    n = int(input())\n",
    "    l = []\n",
    "    for i in range(x+1):\n",
    "        for j in range(y+1):\n",
    "            for k in range(z+1):\n",
    "                if i+j+k == n:\n",
    "                    continue\n",
    "                l.append([i,j,k])                \n",
    "    print(l)"
   ]
  },
  {
   "cell_type": "code",
   "execution_count": null,
   "id": "7210b892",
   "metadata": {},
   "outputs": [],
   "source": []
  },
  {
   "cell_type": "code",
   "execution_count": 6,
   "id": "866f7ae9",
   "metadata": {},
   "outputs": [
    {
     "name": "stdout",
     "output_type": "stream",
     "text": [
      "12\n",
      "insert 0 5\n",
      "insert 1 10\n",
      "insert 0 6\n",
      "print\n",
      "[6, 5, 10]\n",
      "remove 6\n",
      "append 9\n",
      "append 1\n",
      "sort\n",
      "print\n",
      "[1, 5, 9, 10]\n",
      "pop\n",
      "reverse\n",
      "print\n",
      "[9, 5, 1]\n"
     ]
    }
   ],
   "source": [
    "# 3>\n",
    "if __name__ == '__main__':\n",
    "    N = int(input())\n",
    "    l = []\n",
    "    for i in range(N):\n",
    "        s = list(input().split())\n",
    "        if s[0]=='insert':\n",
    "            l.insert(int(s[1]),int(s[2]))\n",
    "        if s[0]=='remove':\n",
    "            l.remove(int(s[1]))\n",
    "        if s[0]=='append':\n",
    "            l.append(int(s[1]))\n",
    "        if s[0]=='sort':\n",
    "            l.sort()\n",
    "        if s[0]=='pop':\n",
    "            l.pop()\n",
    "        if s[0]=='reverse':\n",
    "            l.reverse()     \n",
    "        if s[0]=='print':\n",
    "            print(l)"
   ]
  },
  {
   "cell_type": "code",
   "execution_count": 5,
   "id": "bab98130",
   "metadata": {},
   "outputs": [
    {
     "name": "stdout",
     "output_type": "stream",
     "text": [
      "2\n",
      "Harsh 25 26.5 28\n",
      "Anurag 26 28 30\n",
      "Harsh\n",
      "26.50\n"
     ]
    }
   ],
   "source": [
    "# 4>\n",
    "if __name__ == '__main__':\n",
    "\n",
    "    n = int(input())\n",
    "\n",
    "    student_marks = {}\n",
    "\n",
    "    for _ in range(n):\n",
    "\n",
    "        name, *line = input().split()\n",
    "\n",
    "        scores = list(map(float, line))\n",
    "\n",
    "        student_marks[name] = scores\n",
    "\n",
    "    query_name = input()\n",
    "\n",
    "    l1 = list(student_marks[query_name]) \n",
    "\n",
    "    addition = sum(l1)\n",
    "\n",
    "    result = addition/len(l1)\n",
    "\n",
    "    print('%.2f'% result)"
   ]
  },
  {
   "cell_type": "code",
   "execution_count": null,
   "id": "648bcf5a",
   "metadata": {},
   "outputs": [],
   "source": []
  }
 ],
 "metadata": {
  "kernelspec": {
   "display_name": "Python 3 (ipykernel)",
   "language": "python",
   "name": "python3"
  },
  "language_info": {
   "codemirror_mode": {
    "name": "ipython",
    "version": 3
   },
   "file_extension": ".py",
   "mimetype": "text/x-python",
   "name": "python",
   "nbconvert_exporter": "python",
   "pygments_lexer": "ipython3",
   "version": "3.10.9"
  }
 },
 "nbformat": 4,
 "nbformat_minor": 5
}
