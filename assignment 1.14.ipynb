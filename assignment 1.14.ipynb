{
 "cells": [
  {
   "cell_type": "markdown",
   "id": "1bc0aa0d",
   "metadata": {},
   "source": [
    "#### 1> Program to find the sum of digits of a number until the sum is reduced to 1 digit "
   ]
  },
  {
   "cell_type": "code",
   "execution_count": 2,
   "id": "e1ba566d",
   "metadata": {},
   "outputs": [
    {
     "name": "stdout",
     "output_type": "stream",
     "text": [
      "enter98765\n",
      "The sum of digits of 98765 is: 8\n"
     ]
    }
   ],
   "source": [
    "def sum_of_digits(number):\n",
    "    while number > 9:\n",
    "        digit_sum = 0\n",
    "        while number > 0:\n",
    "            digit_sum += number % 10\n",
    "            number //= 10\n",
    "        number = digit_sum\n",
    "    return number\n",
    "\n",
    "\n",
    "num = int(input(\"enter\"))\n",
    "result = sum_of_digits(num)\n",
    "print(\"The sum of digits of\", num, \"is:\", result)\n"
   ]
  },
  {
   "cell_type": "markdown",
   "id": "b68ef5ba",
   "metadata": {},
   "source": [
    "##### 2> Program to find LCM and HCF of two numbers "
   ]
  },
  {
   "cell_type": "code",
   "execution_count": 3,
   "id": "22c89971",
   "metadata": {},
   "outputs": [
    {
     "name": "stdout",
     "output_type": "stream",
     "text": [
      "The LCM of 14 and 30 is: 210\n",
      "The HCF of 14 and 30 is: 2\n"
     ]
    }
   ],
   "source": [
    "def calculate_lcm(x, y):\n",
    "    \n",
    "    max_num = max(x, y)\n",
    "\n",
    "    \n",
    "    lcm = max_num\n",
    "    while True:\n",
    "        if lcm % x == 0 and lcm % y == 0:\n",
    "            break\n",
    "        lcm += max_num\n",
    "\n",
    "    return lcm\n",
    "\n",
    "\n",
    "def calculate_hcf(x, y):\n",
    "    \n",
    "    min_num = min(x, y)\n",
    "\n",
    "    \n",
    "    hcf = 1\n",
    "    for i in range(1, min_num + 1):\n",
    "        if x % i == 0 and y % i == 0:\n",
    "            hcf = i\n",
    "\n",
    "    return hcf\n",
    "\n",
    "\n",
    "\n",
    "num1 = 14\n",
    "num2 = 30\n",
    "\n",
    "lcm_result = calculate_lcm(num1, num2)\n",
    "hcf_result = calculate_hcf(num1, num2)\n",
    "\n",
    "print(\"The LCM of\", num1, \"and\", num2, \"is:\", lcm_result)\n",
    "print(\"The HCF of\", num1, \"and\", num2, \"is:\", hcf_result)\n"
   ]
  },
  {
   "cell_type": "markdown",
   "id": "4ba0eca9",
   "metadata": {},
   "source": [
    "##### 3> Write a program to accept any number n and print the cube of all numbers from 1 to n which are divisible by 3. Rewrite the program using a continue statement. "
   ]
  },
  {
   "cell_type": "code",
   "execution_count": 5,
   "id": "073e0225",
   "metadata": {},
   "outputs": [
    {
     "name": "stdout",
     "output_type": "stream",
     "text": [
      "Enter a number: 20\n",
      "The cube of 3 is 27\n",
      "The cube of 6 is 216\n",
      "The cube of 9 is 729\n",
      "The cube of 12 is 1728\n",
      "The cube of 15 is 3375\n",
      "The cube of 18 is 5832\n"
     ]
    }
   ],
   "source": [
    "def print_cubes_divisible_by_three(n):\n",
    "    for i in range(1, n + 1):\n",
    "        if i % 3 == 0:\n",
    "            cube = i ** 3\n",
    "            print(f\"The cube of {i} is {cube}\")\n",
    "\n",
    "\n",
    "\n",
    "num = int(input(\"Enter a number: \"))\n",
    "print_cubes_divisible_by_three(num)\n"
   ]
  },
  {
   "cell_type": "markdown",
   "id": "4be83595",
   "metadata": {},
   "source": [
    "##### 5> Write a program to input a number and count the digits in it. Use while loop and the program should work correctly for 0 also  "
   ]
  },
  {
   "cell_type": "code",
   "execution_count": 6,
   "id": "afc6c216",
   "metadata": {},
   "outputs": [
    {
     "name": "stdout",
     "output_type": "stream",
     "text": [
      "Enter a number: 123\n",
      "Number of digits: 3\n"
     ]
    }
   ],
   "source": [
    "def count_digits(number):\n",
    "    count = 0\n",
    "\n",
    "\n",
    "    if number == 0:\n",
    "        return 1\n",
    "\n",
    "    while number != 0:\n",
    "        count += 1\n",
    "        number //= 10\n",
    "\n",
    "    return count\n",
    "\n",
    "\n",
    "num = int(input(\"Enter a number: \"))\n",
    "digit_count = count_digits(num)\n",
    "print(\"Number of digits:\", digit_count)\n"
   ]
  },
  {
   "cell_type": "markdown",
   "id": "a145e24e",
   "metadata": {},
   "source": [
    "###### 6> Write a program to enter a number and find the reverse of that number. Also display the double of the reverse number.\n"
   ]
  },
  {
   "cell_type": "code",
   "execution_count": 7,
   "id": "4a9fbde1",
   "metadata": {},
   "outputs": [
    {
     "name": "stdout",
     "output_type": "stream",
     "text": [
      "Enter a number: 1234\n",
      "Reversed number: 4321\n"
     ]
    }
   ],
   "source": [
    "def reverse_number(number):\n",
    "    reversed_num = 0\n",
    "\n",
    "    while number != 0:\n",
    "   \n",
    "        last_digit = number % 10\n",
    "\n",
    "    \n",
    "        reversed_num = (reversed_num * 10) + last_digit\n",
    "\n",
    "    \n",
    "        number //= 10\n",
    "\n",
    "    return reversed_num\n",
    "\n",
    "\n",
    "\n",
    "num = int(input(\"Enter a number: \"))\n",
    "reversed_number = reverse_number(num)\n",
    "print(\"Reversed number:\", reversed_number)\n"
   ]
  },
  {
   "cell_type": "markdown",
   "id": "3aa1f32d",
   "metadata": {},
   "source": [
    "#### 4> Write a program to read roll number and marks of 10 students in 3 subjects. The valid range for roll number is 1000-9999, if the roll number entered is not in this range, the user should be asked to enter again. Calculate total marks of only those students who get more than or equal to 40 marks in each subject. Count the number of students whose total is more than 200. Print the roll number of the students who gets the highest total. "
   ]
  }
 ],
 "metadata": {
  "kernelspec": {
   "display_name": "Python 3 (ipykernel)",
   "language": "python",
   "name": "python3"
  },
  "language_info": {
   "codemirror_mode": {
    "name": "ipython",
    "version": 3
   },
   "file_extension": ".py",
   "mimetype": "text/x-python",
   "name": "python",
   "nbconvert_exporter": "python",
   "pygments_lexer": "ipython3",
   "version": "3.10.9"
  }
 },
 "nbformat": 4,
 "nbformat_minor": 5
}
