{
 "cells": [
  {
   "cell_type": "markdown",
   "id": "d0f0e08d",
   "metadata": {},
   "source": [
    "#### 1> Python Program to Check Palindrome Number "
   ]
  },
  {
   "cell_type": "code",
   "execution_count": 5,
   "id": "d79111ec",
   "metadata": {},
   "outputs": [
    {
     "name": "stdout",
     "output_type": "stream",
     "text": [
      "enter121\n",
      "palindrome\n"
     ]
    }
   ],
   "source": [
    "n=int(input(\"enter\"))\n",
    "t=n\n",
    "s=0\n",
    "while n>0:\n",
    "    a=n%10\n",
    "    s=s*10+a\n",
    "    n=n//10\n",
    "if(t==s):\n",
    "    print(\"palindrome\")\n",
    "else:\n",
    "    print(\"not a palindrome\")"
   ]
  },
  {
   "cell_type": "markdown",
   "id": "77694e53",
   "metadata": {},
   "source": [
    "### 2> Python Program to Print all multiples of 3 and 5 in an Interval"
   ]
  },
  {
   "cell_type": "code",
   "execution_count": 11,
   "id": "05f4649d",
   "metadata": {},
   "outputs": [
    {
     "name": "stdout",
     "output_type": "stream",
     "text": [
      " multiplication table of 3 \n",
      "\n",
      "0 * 3 = 0\n",
      "1 * 3 = 3\n",
      "2 * 3 = 6\n",
      "3 * 3 = 9\n",
      "4 * 3 = 12\n",
      "5 * 3 = 15\n",
      "6 * 3 = 18\n",
      "7 * 3 = 21\n",
      "8 * 3 = 24\n",
      "9 * 3 = 27\n",
      "10 * 3 = 30\n",
      "multipliction table of 5\n",
      "0 * 5 = 0\n",
      "1 * 5 = 5\n",
      "2 * 5 = 10\n",
      "3 * 5 = 15\n",
      "4 * 5 = 20\n",
      "5 * 5 = 25\n",
      "6 * 5 = 30\n",
      "7 * 5 = 35\n",
      "8 * 5 = 40\n",
      "9 * 5 = 45\n",
      "10 * 5 = 50\n"
     ]
    }
   ],
   "source": [
    "import time\n",
    "n=11\n",
    "print(\" multiplication table of 3 \\n\")\n",
    "for i in range (n):\n",
    "    print(f\"{i} * {3} = {i*3}\")\n",
    "time.sleep(4)\n",
    "print(\"multipliction table of 5\")\n",
    "for i in range (n):\n",
    "    print(f\"{i} * {5} = {i*5}\")\n",
    "    "
   ]
  },
  {
   "cell_type": "markdown",
   "id": "7f8d1ad4",
   "metadata": {},
   "source": [
    "#### 3> Python Program to Find the Factorial of a Number"
   ]
  },
  {
   "cell_type": "code",
   "execution_count": 17,
   "id": "3e0b8ecb",
   "metadata": {},
   "outputs": [
    {
     "name": "stdout",
     "output_type": "stream",
     "text": [
      "enter5\n",
      "120\n"
     ]
    }
   ],
   "source": [
    "n=int(input(\"enter\"))\n",
    "p=1\n",
    "i=1\n",
    "while i<=n:\n",
    "    p*=i\n",
    "    i+=1\n",
    "print(p)        "
   ]
  },
  {
   "cell_type": "markdown",
   "id": "3f3c4f3b",
   "metadata": {},
   "source": [
    "#### 4> Python Program to Print the Fibonacci sequence"
   ]
  },
  {
   "cell_type": "code",
   "execution_count": 19,
   "id": "8ce519a8",
   "metadata": {},
   "outputs": [
    {
     "name": "stdout",
     "output_type": "stream",
     "text": [
      "enter7\n",
      "0\n",
      "1\n",
      "1\n",
      "2\n",
      "3\n",
      "5\n",
      "8\n"
     ]
    }
   ],
   "source": [
    "a=0\n",
    "b=1\n",
    "n=int(input(\"enter\"))\n",
    "m=n-2\n",
    "print(a)\n",
    "print(b)\n",
    "for i in range (m):\n",
    "    c=a+b\n",
    "    print(c)\n",
    "    a=b\n",
    "    b=c"
   ]
  },
  {
   "cell_type": "markdown",
   "id": "b465ca4c",
   "metadata": {},
   "source": [
    "#### 5> Python Program to Check Armstrong Number "
   ]
  },
  {
   "cell_type": "code",
   "execution_count": 28,
   "id": "5d3a973a",
   "metadata": {},
   "outputs": [
    {
     "name": "stdout",
     "output_type": "stream",
     "text": [
      "enter371\n",
      "armstrong\n"
     ]
    }
   ],
   "source": [
    "n=int(input(\"enter\"))\n",
    "t=n\n",
    "c=len(str(n))\n",
    "s=0\n",
    "p=0\n",
    "while n>0:\n",
    "    a=n%10\n",
    "    s+=a**c\n",
    "    n=n//10\n",
    "if(t==s):\n",
    "    print(\"armstrong\")\n",
    "else:\n",
    "    print(\" not an armstrong\")\n"
   ]
  },
  {
   "cell_type": "code",
   "execution_count": null,
   "id": "b9df7e38",
   "metadata": {},
   "outputs": [],
   "source": []
  }
 ],
 "metadata": {
  "kernelspec": {
   "display_name": "Python 3 (ipykernel)",
   "language": "python",
   "name": "python3"
  },
  "language_info": {
   "codemirror_mode": {
    "name": "ipython",
    "version": 3
   },
   "file_extension": ".py",
   "mimetype": "text/x-python",
   "name": "python",
   "nbconvert_exporter": "python",
   "pygments_lexer": "ipython3",
   "version": "3.10.9"
  }
 },
 "nbformat": 4,
 "nbformat_minor": 5
}
