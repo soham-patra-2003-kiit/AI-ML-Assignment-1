{
 "cells": [
  {
   "cell_type": "markdown",
   "id": "5d1563fa",
   "metadata": {},
   "source": [
    "#### 1> Write a Python program to check whether a number is negative, positive or zero"
   ]
  },
  {
   "cell_type": "code",
   "execution_count": 3,
   "id": "8b7c8612",
   "metadata": {},
   "outputs": [
    {
     "name": "stdout",
     "output_type": "stream",
     "text": [
      "-1\n",
      "negative\n"
     ]
    }
   ],
   "source": [
    "n=int(input())\n",
    "if n==0:\n",
    "    print(\"zero\")\n",
    "elif n>0:\n",
    "    print(\"positive\")\n",
    "else:\n",
    "    print(\"negative\")\n"
   ]
  },
  {
   "cell_type": "markdown",
   "id": "17380fbb",
   "metadata": {},
   "source": [
    "##### 2> Write a Python program to check whether a number is divisible by 5 and 11 or not. "
   ]
  },
  {
   "cell_type": "code",
   "execution_count": 1,
   "id": "69d18ce3",
   "metadata": {},
   "outputs": [
    {
     "name": "stdout",
     "output_type": "stream",
     "text": [
      "enter55\n",
      "divisible\n"
     ]
    }
   ],
   "source": [
    "n=int(input(\"enter\"))\n",
    "if n%5==0 and n%11==0:\n",
    "    print(\"divisible\")\n",
    "else:\n",
    "    print(\"not divisible\")"
   ]
  },
  {
   "cell_type": "markdown",
   "id": "6eb94271",
   "metadata": {},
   "source": [
    "#### 3> Write a Python program to check whether a year is leap year or not. "
   ]
  },
  {
   "cell_type": "code",
   "execution_count": 5,
   "id": "fecb5307",
   "metadata": {},
   "outputs": [
    {
     "name": "stdout",
     "output_type": "stream",
     "text": [
      "enter1997\n",
      "not a leap year\n"
     ]
    }
   ],
   "source": [
    "n=int(input(\"enter\"))\n",
    "if n%1000==0 or n%4==0:\n",
    "    print(\"leap year\")\n",
    "else:\n",
    "    print(\"not a leap year\")"
   ]
  },
  {
   "cell_type": "markdown",
   "id": "cb8603ca",
   "metadata": {},
   "source": [
    "#### 4> Write a Python program to check whether a character is alphabet or not. "
   ]
  },
  {
   "cell_type": "code",
   "execution_count": 7,
   "id": "651ef52c",
   "metadata": {},
   "outputs": [
    {
     "name": "stdout",
     "output_type": "stream",
     "text": [
      "enter2\n",
      "not alphabet\n"
     ]
    }
   ],
   "source": [
    "n=input(\"enter\")\n",
    "if n>='a' and n<='z':\n",
    "    print(\"alphabet\")\n",
    "elif n>= 'A' and n<='Z':\n",
    "    print(\"alphabet\")\n",
    "else:\n",
    "    print(\"not alphabet\")"
   ]
  },
  {
   "cell_type": "markdown",
   "id": "892ee2af",
   "metadata": {},
   "source": [
    "#### 8> Write a Python program to input week number and print weekday. "
   ]
  },
  {
   "cell_type": "code",
   "execution_count": 8,
   "id": "c1c27633",
   "metadata": {},
   "outputs": [
    {
     "name": "stdout",
     "output_type": "stream",
     "text": [
      "Enter weekday number (1-7) : 3\n",
      "\n",
      " Wednesday\n"
     ]
    }
   ],
   "source": [
    "weekday = int(input(\"Enter weekday number between 1 to 7 : \"))\n",
    "\n",
    "if weekday == 1 :\n",
    "    print(\"\\n Monday\");\n",
    "\n",
    "elif weekday == 2 :\n",
    "    print(\"\\n Tuesday\")\n",
    "\n",
    "elif(weekday == 3) :\n",
    "    print(\"\\n Wednesday\")\n",
    "\n",
    "elif(weekday == 4) :\n",
    "    print(\"\\n Thursday\")\n",
    "\n",
    "elif(weekday == 5) :\n",
    "    print(\"\\n Friday\")\n",
    "\n",
    "elif(weekday == 6) :\n",
    "    print(\"\\n Saturday\")\n",
    "\n",
    "elif (weekday == 7) :\n",
    "    print(\"\\n Sunday\")\n",
    "\n",
    "else :\n",
    "    print(\"\\n invalid\")"
   ]
  },
  {
   "cell_type": "markdown",
   "id": "739d483b",
   "metadata": {},
   "source": [
    "####  10> Write a Python program to input all sides of a triangle and check whether triangle is valid or not. "
   ]
  },
  {
   "cell_type": "code",
   "execution_count": 9,
   "id": "36ef2a88",
   "metadata": {},
   "outputs": [
    {
     "name": "stdout",
     "output_type": "stream",
     "text": [
      "enter2\n",
      "enter2\n",
      "enter4\n",
      "valid triangle\n"
     ]
    }
   ],
   "source": [
    "a=int(input(\"enter\"))\n",
    "b=int(input(\"enter\"))\n",
    "c=int(input(\"enter\"))\n",
    "\n",
    "if a+b <= c or b+c <= a or c+a <= b :\n",
    "    print(\"valid triangle\")\n",
    "else:\n",
    "    print(\"invalid\")"
   ]
  },
  {
   "cell_type": "markdown",
   "id": "78313db8",
   "metadata": {},
   "source": [
    "#### 12> Write a Python program to input marks of five subjects Physics, Chemistry, Biology, Mathematics and Computer. Calculate percentage and grade according to following:  \n",
    "\n",
    "                   Percentage >= 90% : Grade A \n",
    "\n",
    "                   Percentage >= 80% : Grade B  \n",
    "\n",
    "                   Percentage >= 70% : Grade C  \n",
    "\n",
    "                               Percentage >= 60% : Grade D  \n",
    "\n",
    "                               Percentage >= 40% : Grade E  \n",
    "\n",
    "                               Percentage < 40% : Grade F "
   ]
  },
  {
   "cell_type": "code",
   "execution_count": 16,
   "id": "f157fb2f",
   "metadata": {},
   "outputs": [
    {
     "name": "stdout",
     "output_type": "stream",
     "text": [
      "enter marks out of 100 89\n",
      "enter marks out of 100 70\n",
      "enter marks out of 100 90\n",
      "enter marks out of 100 88\n",
      "enter marks out of 100 76\n",
      "[89, 70, 90, 88, 76]\n",
      " grade B \n"
     ]
    }
   ],
   "source": [
    "n=5\n",
    "sub =[]\n",
    "for i in range (n):\n",
    "    x=int(input(\"enter marks out of 100 \"))\n",
    "    sub.append(x)\n",
    "print(sub)\n",
    "p=0\n",
    "for i in range (n):\n",
    "    p+=sub[i]\n",
    "p=(p/500)*100\n",
    "if p>=90:\n",
    "    print(\"grade A\")\n",
    "elif p>=80 and p<=90:\n",
    "    print(\" grade B \")\n",
    "elif p>=70 and p<=80:\n",
    "    print(\"grade c \")\n",
    "elif p>=60 and p<=70:\n",
    "    print(\"grade D \")\n",
    "elif p>=40 and p<=60:\n",
    "    print(\"grade E \")\n",
    "elif p<40:\n",
    "    print(\"grade F\")\n",
    "    "
   ]
  },
  {
   "cell_type": "markdown",
   "id": "1fa53c37",
   "metadata": {},
   "source": [
    "### 13.Write a Python program to input basic salary of an employee and calculate its Gross salary according to following:  \n",
    "\n",
    "                Basic Salary <= 10000 : HRA = 20%, DA = 80%  \n",
    "\n",
    "                Basic Salary <= 20000 : HRA = 25%, DA = 90%  \n",
    "\n",
    "                Basic Salary > 20000 : HRA = 30%, DA = 95%"
   ]
  },
  {
   "cell_type": "code",
   "execution_count": 3,
   "id": "eb3bc118",
   "metadata": {},
   "outputs": [
    {
     "name": "stdout",
     "output_type": "stream",
     "text": [
      "enter the basic salary of the employee: 200000\n",
      "gross salary:  450000.0\n"
     ]
    }
   ],
   "source": [
    "def gross_salary(basic_salary):\n",
    "    if basic_salary < 10000:\n",
    "        hra = 0.2*basic_salary\n",
    "        da = 0.8*basic-salary\n",
    "    elif basic_salary <= 20000:\n",
    "        hra = 0.25*basic_salary\n",
    "        da = 0.9*basic_salary\n",
    "    else:\n",
    "        hra = 0.3*basic_salary\n",
    "        da = 0.95*basic_salary\n",
    "    gross_salary = basic_salary + hra +da\n",
    "    return gross_salary\n",
    "\n",
    "basic_salary = float(input(\"enter the basic salary of the employee: \"))\n",
    "gross_salary = gross_salary(basic_salary)\n",
    "print(\"gross salary: \", gross_salary)"
   ]
  },
  {
   "cell_type": "markdown",
   "id": "bbb80a4b",
   "metadata": {},
   "source": [
    "#### 14> Write a Python Program to input electricity unit charges and calculate total electricity bill according to the given condition:  \n",
    "\n",
    "        For first 50 units Rs. 0.50/unit \n",
    "    For next 100 units Rs. 0.75/unit \n",
    "    For next 100 units Rs. 1.20/unit \n",
    "    For unit above 250 Rs. 1.50/unit \n",
    "    An additional surcharge of 20% is added to the bill "
   ]
  },
  {
   "cell_type": "code",
   "execution_count": 2,
   "id": "3f601328",
   "metadata": {},
   "outputs": [
    {
     "name": "stdout",
     "output_type": "stream",
     "text": [
      "enter electricity bill in units: 30\n",
      "electricity bill is:  165.0\n"
     ]
    }
   ],
   "source": [
    "unit = int(input(\"enter electricity bill in units: \"))\n",
    "if 0 < unit <= 50:\n",
    "    print(\"electricity bill is: \", (unit*0.50+(unit/20)*100))\n",
    "elif 51 < unit <= 100:\n",
    "    print(\"electricity bill is: \", (unit*0.75+(unit/20)*100))\n",
    "elif 101 < unit <= 249:\n",
    "    print(\"electricity bill is: \", (unit*1.20+(unit/20)*100))\n",
    "elif unit >= 250:\n",
    "    print(\"electricity bill is:\", (unit*1.50+(unit/20)*100))"
   ]
  },
  {
   "cell_type": "markdown",
   "id": "943cb329",
   "metadata": {},
   "source": [
    "##### 5>.Write a Python program to input any alphabet and check whether it is vowel or consonant. "
   ]
  },
  {
   "cell_type": "code",
   "execution_count": 3,
   "id": "ded37279",
   "metadata": {},
   "outputs": [
    {
     "name": "stdout",
     "output_type": "stream",
     "text": [
      "enter a string: a\n",
      "vowel\n"
     ]
    }
   ],
   "source": [
    "a = input(\"enter a string: \")\n",
    "if a == 'a' or a == 'e' or a == 'i' or a== 'o' or a =='u':\n",
    "    print(\"vowel\")\n",
    "else:\n",
    "    print(\"consonant\")"
   ]
  },
  {
   "cell_type": "markdown",
   "id": "4781d677",
   "metadata": {},
   "source": [
    "##### Q7.Write a Python program to check whether a character is uppercase or lowercase alphabet. "
   ]
  },
  {
   "cell_type": "code",
   "execution_count": 4,
   "id": "44598a86",
   "metadata": {},
   "outputs": [
    {
     "name": "stdout",
     "output_type": "stream",
     "text": [
      "enter a character to be checked: a\n",
      "lower case letter\n"
     ]
    }
   ],
   "source": [
    "a = input(\"enter a character to be checked: \")\n",
    "if a.islower():\n",
    "    print(\"lower case letter\")\n",
    "else:\n",
    "    print(\"upper case letter\")"
   ]
  },
  {
   "cell_type": "markdown",
   "id": "8e4d5ed6",
   "metadata": {},
   "source": [
    "##### Q11.Write a Python program to input angles of a triangle and check whether triangle is valid or not. "
   ]
  },
  {
   "cell_type": "code",
   "execution_count": 5,
   "id": "77e6bbe4",
   "metadata": {},
   "outputs": [
    {
     "name": "stdout",
     "output_type": "stream",
     "text": [
      "enter first angle: 60\n",
      "enter second angle: 30\n",
      "enter third angle: 90\n",
      "Given triangle is valid traingle\n"
     ]
    }
   ],
   "source": [
    "a1 = int(input(\"enter first angle: \"))\n",
    "a2 = int(input(\"enter second angle: \"))\n",
    "a3 = int(input(\"enter third angle: \"))\n",
    "if a1 + a2 + a3 == 180:\n",
    "    print(\"Given triangle is valid traingle\")\n",
    "else:\n",
    "    print(\"Given triangle is not a valid triangle\")"
   ]
  },
  {
   "cell_type": "markdown",
   "id": "39201b27",
   "metadata": {},
   "source": [
    "##### 11.>Write a Python program to check whether the triangle is equilateral, isosceles or scalene triangle. "
   ]
  },
  {
   "cell_type": "code",
   "execution_count": 6,
   "id": "f7daf79f",
   "metadata": {},
   "outputs": [
    {
     "name": "stdout",
     "output_type": "stream",
     "text": [
      "enter first angle: 30\n",
      "enter second angle: 30\n",
      "enter third angle: 120\n",
      "isoceles triangle\n"
     ]
    }
   ],
   "source": [
    "a1 = int(input(\"enter first angle: \"))\n",
    "a2 = int(input(\"enter second angle: \"))\n",
    "a3 = int(input(\"enter third angle: \"))\n",
    "if a1 == a2 == a3:\n",
    "    print(\"Equilateral traingle\")\n",
    "elif a1 == a2 or a2 == a3 or a1 == a3:\n",
    "    print(\"isoceles triangle\")\n",
    "else:    \n",
    "    print(\"scalene triangle\")"
   ]
  },
  {
   "cell_type": "code",
   "execution_count": null,
   "id": "dae5c99c",
   "metadata": {},
   "outputs": [],
   "source": []
  }
 ],
 "metadata": {
  "kernelspec": {
   "display_name": "Python 3 (ipykernel)",
   "language": "python",
   "name": "python3"
  },
  "language_info": {
   "codemirror_mode": {
    "name": "ipython",
    "version": 3
   },
   "file_extension": ".py",
   "mimetype": "text/x-python",
   "name": "python",
   "nbconvert_exporter": "python",
   "pygments_lexer": "ipython3",
   "version": "3.10.9"
  }
 },
 "nbformat": 4,
 "nbformat_minor": 5
}
